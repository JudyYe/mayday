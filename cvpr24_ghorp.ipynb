{
 "cells": [
  {
   "cell_type": "code",
   "execution_count": 1,
   "metadata": {},
   "outputs": [],
   "source": [
    "\n",
    "%load_ext autoreload\n",
    "%autoreload 2\n",
    "import os \n",
    "import numpy as np\n",
    "from table import *"
   ]
  },
  {
   "cell_type": "code",
   "execution_count": 2,
   "metadata": {},
   "outputs": [],
   "source": [
    "table = parse_table(data)"
   ]
  },
  {
   "cell_type": "code",
   "execution_count": 5,
   "metadata": {},
   "outputs": [
    {
     "name": "stdout",
     "output_type": "stream",
     "text": [
      "method & mean_F5 & mean_F10 & mean_CD & mean_CD_h & mean_MJMPE & mean_AUC \\\\\n",
      "more_data & 0.65 & 0.92 & 0.7 & 17.8 & 1.06 & 0.79 \\\\\n",
      "iHOI & 0.42 & 0.70 & 2.7 & \\second 27.1 & \\first \\textbf{1.19} & 0.76 \\\\\n",
      "HHOR & 0.31 & 0.55 & 4.7 & 165.4 & \\second  &  \\\\\n",
      "DiffHOI & \\second 0.62 & \\second 0.91 & \\second 0.8 & 48.7 & 1.12 & \\second 0.78 \\\\\n",
      "GHORP & \\first \\textbf{0.76} & \\first \\textbf{0.97} & \\first \\textbf{0.4} & \\first \\textbf{18.4} & 1.05 & \\first \\textbf{0.79} \\\\\n"
     ]
    },
    {
     "name": "stderr",
     "output_type": "stream",
     "text": [
      "/private/home/yufeiy2/vhoi/mayday/table.py:217: VisibleDeprecationWarning: Creating an ndarray from ragged nested sequences (which is a list-or-tuple of lists-or-tuples-or ndarrays with different lengths or shapes) is deprecated. If you meant to do this, you must specify 'dtype=object' when creating the ndarray.\n",
      "  numbers = np.array(numbers)\n"
     ]
    },
    {
     "data": {
      "text/plain": [
       "'method & mean_F5 & mean_F10 & mean_CD & mean_CD_h & mean_MJMPE & mean_AUC \\\\\\\\\\nmore_data & 0.65 & 0.92 & 0.7 & 17.8 & 1.06 & 0.79 \\\\\\\\\\niHOI & 0.42 & 0.70 & 2.7 & \\\\second 27.1 & \\\\first \\\\textbf{1.19} & 0.76 \\\\\\\\\\nHHOR & 0.31 & 0.55 & 4.7 & 165.4 & \\\\second  &  \\\\\\\\\\nDiffHOI & \\\\second 0.62 & \\\\second 0.91 & \\\\second 0.8 & 48.7 & 1.12 & \\\\second 0.78 \\\\\\\\\\nGHORP & \\\\first \\\\textbf{0.76} & \\\\first \\\\textbf{0.97} & \\\\first \\\\textbf{0.4} & \\\\first \\\\textbf{18.4} & 1.05 & \\\\first \\\\textbf{0.79} \\\\\\\\'"
      ]
     },
     "execution_count": 5,
     "metadata": {},
     "output_type": "execute_result"
    }
   ],
   "source": [
    "method_list = ['more_data', 'iHOI', 'HHOR', 'DiffHOI', 'GHORP']\n",
    "category_list = ['Mug','Bottle','Kettle','Bowl','Knife','ToyCar']\n",
    "metrics = ['F5','F10','CD', 'CD_h', 'MJMPE', \"AUC\"]\n",
    "\n",
    "count_mean(table)\n",
    "print_table(table, method_list,  ['mean'], metrics, ignore=1)"
   ]
  },
  {
   "cell_type": "code",
   "execution_count": 11,
   "metadata": {},
   "outputs": [
    {
     "name": "stdout",
     "output_type": "stream",
     "text": [
      "method & mean_F5 & mean_F10 & mean_CD & mean_CD_h & mean_MJMPE & mean_AUC \\\\\n",
      "GHORP & 0.76 & 0.97 & 0.4 & 18.4 & 1.05 & 0.79 \\\\\n",
      "0.25 & 0.69 & 0.95 & 0.5 & 50.0 & 1.01 & 0.80 \\\\\n",
      "0.75 & 0.49 & 0.76 & 4.0 & 48.1 & 1.06 & 0.79 \\\\\n",
      "more_data_sem & 0.61 & 0.89 & 0.8 & 24.6 & 1.04 & 0.79 \\\\\n",
      "more_data & 0.65 & 0.92 & 0.7 & 17.8 & 1.06 & 0.79 \\\\\n"
     ]
    },
    {
     "data": {
      "text/plain": [
       "'method & mean_F5 & mean_F10 & mean_CD & mean_CD_h & mean_MJMPE & mean_AUC \\\\\\\\\\nGHORP & 0.76 & 0.97 & 0.4 & 18.4 & 1.05 & 0.79 \\\\\\\\\\n0.25 & 0.69 & 0.95 & 0.5 & 50.0 & 1.01 & 0.80 \\\\\\\\\\n0.75 & 0.49 & 0.76 & 4.0 & 48.1 & 1.06 & 0.79 \\\\\\\\\\nmore_data_sem & 0.61 & 0.89 & 0.8 & 24.6 & 1.04 & 0.79 \\\\\\\\\\nmore_data & 0.65 & 0.92 & 0.7 & 17.8 & 1.06 & 0.79 \\\\\\\\'"
      ]
     },
     "execution_count": 11,
     "metadata": {},
     "output_type": "execute_result"
    }
   ],
   "source": [
    "print_table(table, [ 'GHORP', '0.25', '0.75', 'more_data_sem', 'more_data', ],  ['mean'], metrics, ignore=-1)"
   ]
  },
  {
   "cell_type": "code",
   "execution_count": 15,
   "metadata": {},
   "outputs": [
    {
     "name": "stdout",
     "output_type": "stream",
     "text": [
      "method & mean_F5 & mean_F10 & mean_CD & mean_CD_h & mean_MJMPE & mean_AUC \\\\\n",
      "GHORP & \\first \\textbf{0.76} & \\first \\textbf{0.97} & \\first \\textbf{0.4} & \\first \\textbf{18.4} & \\second 1.05 & \\second 0.79 \\\\\n",
      "Conditional & 0.66 & 0.92 & 0.7 & \\second 19.3 & 1.14 & 0.77 \\\\\n",
      "0.25 & \\second 0.69 & \\second 0.95 & \\second 0.5 & 50.0 & \\first \\textbf{1.01} & \\first \\textbf{0.80} \\\\\n",
      "0.75 & 0.49 & 0.76 & 4.0 & 48.1 & 1.06 & 0.79 \\\\\n"
     ]
    },
    {
     "data": {
      "text/plain": [
       "'method & mean_F5 & mean_F10 & mean_CD & mean_CD_h & mean_MJMPE & mean_AUC \\\\\\\\\\nGHORP & \\\\first \\\\textbf{0.76} & \\\\first \\\\textbf{0.97} & \\\\first \\\\textbf{0.4} & \\\\first \\\\textbf{18.4} & \\\\second 1.05 & \\\\second 0.79 \\\\\\\\\\nConditional & 0.66 & 0.92 & 0.7 & \\\\second 19.3 & 1.14 & 0.77 \\\\\\\\\\n0.25 & \\\\second 0.69 & \\\\second 0.95 & \\\\second 0.5 & 50.0 & \\\\first \\\\textbf{1.01} & \\\\first \\\\textbf{0.80} \\\\\\\\\\n0.75 & 0.49 & 0.76 & 4.0 & 48.1 & 1.06 & 0.79 \\\\\\\\'"
      ]
     },
     "execution_count": 15,
     "metadata": {},
     "output_type": "execute_result"
    }
   ],
   "source": [
    "method_list = ['GHORP', 'Conditional', '0.25', '0.75' ]\n",
    "category_list = ['Mug','Bottle','Kettle','Bowl','Knife','ToyCar']\n",
    "metrics = ['F5','F10','CD', 'CD_h', 'MJMPE', \"AUC\"]\n",
    "\n",
    "count_mean(table)\n",
    "print_table(table, method_list,  ['mean'], metrics, ignore=1)"
   ]
  },
  {
   "cell_type": "code",
   "execution_count": 19,
   "metadata": {},
   "outputs": [
    {
     "name": "stdout",
     "output_type": "stream",
     "text": [
      "0.64\n",
      "method & mean_F5 & mean_F10 & mean_CD & mean_CD_h & mean_MJMPE & mean_AUC \\\\\n",
      "iHOI & 0.42 & 0.70 & 2.7 & 27.1 & \\first \\textbf{1.19} & 0.76 \\\\\n",
      "HHOR & 0.31 & 0.55 & 4.7 & 165.4 & \\second  &  \\\\\n",
      "DiffHOI & 0.62 & 0.91 & 0.8 & 48.7 & 1.12 & 0.78 \\\\\n",
      "Conditional & \\second 0.66 & 0.92 & 0.7 & 19.3 & 1.14 & 0.77 \\\\\n",
      "GHORP & \\first \\textbf{0.76} & \\first \\textbf{0.97} & \\first \\textbf{0.4} & \\second 18.4 & 1.05 & \\first \\textbf{0.79} \\\\\n",
      "more_data & 0.65 & \\second 0.92 & \\second 0.7 & \\first \\textbf{17.8} & 1.06 & \\second 0.79 \\\\\n"
     ]
    },
    {
     "name": "stderr",
     "output_type": "stream",
     "text": [
      "/private/home/yufeiy2/vhoi/mayday/table.py:170: VisibleDeprecationWarning: Creating an ndarray from ragged nested sequences (which is a list-or-tuple of lists-or-tuples-or ndarrays with different lengths or shapes) is deprecated. If you meant to do this, you must specify 'dtype=object' when creating the ndarray.\n",
      "  numbers = np.array(numbers)\n"
     ]
    },
    {
     "data": {
      "text/plain": [
       "'method & mean_F5 & mean_F10 & mean_CD & mean_CD_h & mean_MJMPE & mean_AUC \\\\\\\\\\niHOI & 0.42 & 0.70 & 2.7 & 27.1 & \\\\first \\\\textbf{1.19} & 0.76 \\\\\\\\\\nHHOR & 0.31 & 0.55 & 4.7 & 165.4 & \\\\second  &  \\\\\\\\\\nDiffHOI & 0.62 & 0.91 & 0.8 & 48.7 & 1.12 & 0.78 \\\\\\\\\\nConditional & \\\\second 0.66 & 0.92 & 0.7 & 19.3 & 1.14 & 0.77 \\\\\\\\\\nGHORP & \\\\first \\\\textbf{0.76} & \\\\first \\\\textbf{0.97} & \\\\first \\\\textbf{0.4} & \\\\second 18.4 & 1.05 & \\\\first \\\\textbf{0.79} \\\\\\\\\\nmore_data & 0.65 & \\\\second 0.92 & \\\\second 0.7 & \\\\first \\\\textbf{17.8} & 1.06 & \\\\second 0.79 \\\\\\\\'"
      ]
     },
     "execution_count": 19,
     "metadata": {},
     "output_type": "execute_result"
    }
   ],
   "source": [
    "print('{:.2f}'.format(table['DiffHOI']['Mug']['F5']))\n",
    "method_list = ['iHOI', 'HHOR', 'DiffHOI', 'Conditional', 'GHORP', 'more_data']\n",
    "category_list = ['Mug','Bottle','Kettle','Bowl','Knife','ToyCar']\n",
    "metrics = ['F5','F10','CD', 'CD_h', 'MJMPE', \"AUC\"]\n",
    "\n",
    "count_mean(table)\n",
    "print_table(table, method_list, ['mean'], metrics)"
   ]
  },
  {
   "cell_type": "code",
   "execution_count": 10,
   "metadata": {},
   "outputs": [
    {
     "name": "stdout",
     "output_type": "stream",
     "text": [
      "method & Mug_MJMPE & Mug_AUC & Bottle_MJMPE & Bottle_AUC & Kettle_MJMPE & Kettle_AUC & Bowl_MJMPE & Bowl_AUC & Knife_MJMPE & Knife_AUC & ToyCar_MJMPE & ToyCar_AUC & mean_MJMPE & mean_AUC \\\\\n",
      "iHOI & 1.10 & 0.78 & 1.09 & 0.78 & 1.11 & 0.78 & 1.23 & 0.76 & 1.39 & 0.72 & 1.20 & 0.76 & 1.19 & 0.76 \\\\\n",
      "DiffHOI & \\second 1.06 & \\second 0.79 & \\second 1.01 & \\second 0.80 & \\second 1.07 & \\second 0.79 & 1.21 & 0.76 & \\second 1.33 & \\second 0.73 & \\second 1.04 & \\second 0.79 & \\second 1.12 & \\second 0.78 \\\\\n",
      "Conditional & 1.08 & 0.78 & 1.06 & 0.79 & 1.09 & 0.79 & \\second 1.18 & \\second 0.76 & 1.34 & 0.73 & 1.11 & 0.78 & 1.14 & 0.77 \\\\\n",
      "GHORP & \\first \\textbf{1.02} & \\first \\textbf{0.80} & \\first \\textbf{0.97} & \\first \\textbf{0.81} & \\first \\textbf{0.98} & \\first \\textbf{0.81} & \\first \\textbf{1.09} & \\first \\textbf{0.78} & \\first \\textbf{1.20} & \\first \\textbf{0.76} & \\first \\textbf{1.02} & \\first \\textbf{0.80} & \\first \\textbf{1.05} & \\first \\textbf{0.79} \\\\\n"
     ]
    },
    {
     "data": {
      "text/plain": [
       "'method & Mug_MJMPE & Mug_AUC & Bottle_MJMPE & Bottle_AUC & Kettle_MJMPE & Kettle_AUC & Bowl_MJMPE & Bowl_AUC & Knife_MJMPE & Knife_AUC & ToyCar_MJMPE & ToyCar_AUC & mean_MJMPE & mean_AUC \\\\\\\\\\niHOI & 1.10 & 0.78 & 1.09 & 0.78 & 1.11 & 0.78 & 1.23 & 0.76 & 1.39 & 0.72 & 1.20 & 0.76 & 1.19 & 0.76 \\\\\\\\\\nDiffHOI & \\\\second 1.06 & \\\\second 0.79 & \\\\second 1.01 & \\\\second 0.80 & \\\\second 1.07 & \\\\second 0.79 & 1.21 & 0.76 & \\\\second 1.33 & \\\\second 0.73 & \\\\second 1.04 & \\\\second 0.79 & \\\\second 1.12 & \\\\second 0.78 \\\\\\\\\\nConditional & 1.08 & 0.78 & 1.06 & 0.79 & 1.09 & 0.79 & \\\\second 1.18 & \\\\second 0.76 & 1.34 & 0.73 & 1.11 & 0.78 & 1.14 & 0.77 \\\\\\\\\\nGHORP & \\\\first \\\\textbf{1.02} & \\\\first \\\\textbf{0.80} & \\\\first \\\\textbf{0.97} & \\\\first \\\\textbf{0.81} & \\\\first \\\\textbf{0.98} & \\\\first \\\\textbf{0.81} & \\\\first \\\\textbf{1.09} & \\\\first \\\\textbf{0.78} & \\\\first \\\\textbf{1.20} & \\\\first \\\\textbf{0.76} & \\\\first \\\\textbf{1.02} & \\\\first \\\\textbf{0.80} & \\\\first \\\\textbf{1.05} & \\\\first \\\\textbf{0.79} \\\\\\\\'"
      ]
     },
     "execution_count": 10,
     "metadata": {},
     "output_type": "execute_result"
    }
   ],
   "source": [
    "print_table(table, ['iHOI', 'DiffHOI', 'Conditional', 'GHORP'], category_list + ['mean'], metrics[4:])"
   ]
  },
  {
   "cell_type": "code",
   "execution_count": 13,
   "metadata": {},
   "outputs": [
    {
     "name": "stdout",
     "output_type": "stream",
     "text": [
      "method & mean_F5 & mean_F10 & mean_CD & mean_CD_h & mean_MJMPE & mean_AUC \\\\\n",
      "iHOI & 0.42 & 0.70 & 2.7 & 27.1 & \\first \\textbf{1.19} & 0.76 \\\\\n",
      "HHOR & 0.31 & 0.55 & 4.7 & 165.4 & \\second  &  \\\\\n",
      "DiffHOI & 0.62 & 0.91 & 0.8 & 48.7 & 1.12 & \\second 0.78 \\\\\n",
      "Conditional & \\second 0.66 & \\second 0.92 & \\second 0.7 & \\second 19.3 & 1.14 & 0.77 \\\\\n",
      "GHORP & \\first \\textbf{0.76} & \\first \\textbf{0.97} & \\first \\textbf{0.4} & \\first \\textbf{18.4} & 1.05 & \\first \\textbf{0.79} \\\\\n"
     ]
    },
    {
     "name": "stderr",
     "output_type": "stream",
     "text": [
      "/private/home/yufeiy2/vhoi/mayday/table.py:170: VisibleDeprecationWarning: Creating an ndarray from ragged nested sequences (which is a list-or-tuple of lists-or-tuples-or ndarrays with different lengths or shapes) is deprecated. If you meant to do this, you must specify 'dtype=object' when creating the ndarray.\n",
      "  \n"
     ]
    },
    {
     "data": {
      "text/plain": [
       "'method & mean_F5 & mean_F10 & mean_CD & mean_CD_h & mean_MJMPE & mean_AUC \\\\\\\\\\niHOI & 0.42 & 0.70 & 2.7 & 27.1 & \\\\first \\\\textbf{1.19} & 0.76 \\\\\\\\\\nHHOR & 0.31 & 0.55 & 4.7 & 165.4 & \\\\second  &  \\\\\\\\\\nDiffHOI & 0.62 & 0.91 & 0.8 & 48.7 & 1.12 & \\\\second 0.78 \\\\\\\\\\nConditional & \\\\second 0.66 & \\\\second 0.92 & \\\\second 0.7 & \\\\second 19.3 & 1.14 & 0.77 \\\\\\\\\\nGHORP & \\\\first \\\\textbf{0.76} & \\\\first \\\\textbf{0.97} & \\\\first \\\\textbf{0.4} & \\\\first \\\\textbf{18.4} & 1.05 & \\\\first \\\\textbf{0.79} \\\\\\\\'"
      ]
     },
     "execution_count": 13,
     "metadata": {},
     "output_type": "execute_result"
    }
   ],
   "source": [
    "print_table(table, method_list , ['mean'], metrics)"
   ]
  },
  {
   "cell_type": "code",
   "execution_count": 3,
   "metadata": {},
   "outputs": [
    {
     "name": "stdout",
     "output_type": "stream",
     "text": [
      "method & mean_max depth & mean_avg depth & mean_Volume & mean_disp mean & mean_ratio & mean_area \\\\\n",
      "GT & \\first \\textbf{1.32} & \\first \\textbf{0.37} & \\second 6.16 & \\first \\textbf{2.32} & 0.95 & 0.15 \\\\\n",
      "GraspTTA & 2.44 & \\second 0.61 & \\first \\textbf{5.25} & 2.89 & \\first \\textbf{1.00} & \\first \\textbf{0.23} \\\\\n",
      "GHORP & \\second 2.42 & 0.68 & 7.55 & \\second 2.48 & \\second 0.99 & \\second 0.20 \\\\\n",
      "method & mean_max depth & mean_avg depth & mean_Volume & mean_disp mean & mean_ratio & mean_area \\\\\n",
      "GHORP+ & 1.84 & 0.31 & 11.46 & 0.95 & 1.00 & 0.23 \\\\\n",
      "GHORP & 2.42 & 0.68 & 7.55 & 2.48 & 0.99 & 0.20 \\\\\n"
     ]
    },
    {
     "data": {
      "text/plain": [
       "'method & mean_max depth & mean_avg depth & mean_Volume & mean_disp mean & mean_ratio & mean_area \\\\\\\\\\nGHORP+ & 1.84 & 0.31 & 11.46 & 0.95 & 1.00 & 0.23 \\\\\\\\\\nGHORP & 2.42 & 0.68 & 7.55 & 2.48 & 0.99 & 0.20 \\\\\\\\'"
      ]
     },
     "execution_count": 3,
     "metadata": {},
     "output_type": "execute_result"
    }
   ],
   "source": [
    "grasp_table = parse_grasp_table(grasp_data)\n",
    "method_list = ['GT', 'GraspTTA',  'GHORP']\n",
    "metric_list = ['max depth', 'avg depth','Volume', 'disp mean', 'ratio', 'area' ]\n",
    "print_table(grasp_table, method_list, ['mean'], metric_list, ignore=0)\n",
    "\n",
    "metric_list = ['max depth', 'avg depth','Volume', 'disp mean', 'ratio', 'area' ]\n",
    "print_table(grasp_table, ['GHORP+', 'GHORP'], ['mean'], metric_list, ignore=-1)"
   ]
  },
  {
   "cell_type": "code",
   "execution_count": 7,
   "metadata": {},
   "outputs": [
    {
     "name": "stdout",
     "output_type": "stream",
     "text": [
      "method & mean_max depth & mean_avg depth & mean_Volume & mean_disp mean & mean_ratio & mean_area \\\\\n",
      "GT & 0.98 & 0.74 & \\first \\textbf{1.70} & \\second 1.57 & \\second 1.00 & 0.12 \\\\\n",
      "GraspTTA & \\second 0.87 & \\second 0.58 & \\second 5.56 & \\first \\textbf{1.54} & \\first \\textbf{1.00} & \\second 0.18 \\\\\n",
      "GHORP & \\first \\textbf{0.74} & \\first \\textbf{0.51} & 17.40 & 1.85 & 0.93 & \\first \\textbf{0.25} \\\\\n",
      "method & mean_max depth & mean_avg depth & mean_Volume & mean_disp mean & mean_ratio & mean_area \\\\\n",
      "GF* & 0.56 & 0.44 & 6.05 & 2.07 & 89.40 & 0.06 \\\\\n",
      "Ours* & 0.97 & 0.70 & 6.39 & 2.03 & 1.00 & 0.13 \\\\\n",
      "GF & 0.79 & 0.64 & 43.35 & 1.82 & 1.00 & 0.09 \\\\\n",
      "GHORP+ & 0.74 & 0.57 & 8.25 & 3.87 & 0.82 & 0.12 \\\\\n",
      "GHORP & 0.74 & 0.51 & 17.40 & 1.85 & 0.93 & 0.25 \\\\\n"
     ]
    },
    {
     "data": {
      "text/plain": [
       "'method & mean_max depth & mean_avg depth & mean_Volume & mean_disp mean & mean_ratio & mean_area \\\\\\\\\\nGF* & 0.56 & 0.44 & 6.05 & 2.07 & 89.40 & 0.06 \\\\\\\\\\nOurs* & 0.97 & 0.70 & 6.39 & 2.03 & 1.00 & 0.13 \\\\\\\\\\nGF & 0.79 & 0.64 & 43.35 & 1.82 & 1.00 & 0.09 \\\\\\\\\\nGHORP+ & 0.74 & 0.57 & 8.25 & 3.87 & 0.82 & 0.12 \\\\\\\\\\nGHORP & 0.74 & 0.51 & 17.40 & 1.85 & 0.93 & 0.25 \\\\\\\\'"
      ]
     },
     "execution_count": 7,
     "metadata": {},
     "output_type": "execute_result"
    }
   ],
   "source": [
    "grasp_table = parse_grasp_table(grasp_obman)\n",
    "method_list = ['GT', 'GraspTTA',  'GHORP']\n",
    "metric_list = ['max depth', 'avg depth','Volume', 'disp mean', 'ratio', 'area' ]\n",
    "print_table(grasp_table, method_list, ['mean'], metric_list, ignore=0)\n",
    "\n",
    "print_table(grasp_table, ['GF*', 'Ours*', 'GF', 'GHORP+', 'GHORP'], ['mean'], metric_list, ignore=-1)\n"
   ]
  },
  {
   "cell_type": "code",
   "execution_count": null,
   "metadata": {},
   "outputs": [],
   "source": [
    "grasp_table = parse_grasp_table(grasp_obman)\n",
    "method_list = ['GT', 'GraspTTA',  'GHORP']\n",
    "metric_list = ['max depth', 'avg depth','Volume', 'disp mean', 'ratio', 'area' ]\n",
    "print_table(grasp_table, method_list, ['mean'], metric_list, ignore=0)\n",
    "\n",
    "print_table(grasp_table, ['GF*', 'Ours*', 'GF', 'GHORP+', 'GHORP'], ['mean'], metric_list, ignore=-1)\n"
   ]
  }
 ],
 "metadata": {
  "kernelspec": {
   "display_name": "vhoi",
   "language": "python",
   "name": "python3"
  },
  "language_info": {
   "codemirror_mode": {
    "name": "ipython",
    "version": 3
   },
   "file_extension": ".py",
   "mimetype": "text/x-python",
   "name": "python",
   "nbconvert_exporter": "python",
   "pygments_lexer": "ipython3",
   "version": "3.8.16"
  }
 },
 "nbformat": 4,
 "nbformat_minor": 2
}
