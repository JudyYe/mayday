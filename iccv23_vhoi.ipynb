{
 "cells": [
  {
   "cell_type": "code",
   "execution_count": 10,
   "metadata": {},
   "outputs": [
    {
     "name": "stdout",
     "output_type": "stream",
     "text": [
      "The autoreload extension is already loaded. To reload it, use:\n",
      "  %reload_ext autoreload\n"
     ]
    }
   ],
   "source": [
    "\n",
    "%load_ext autoreload\n",
    "%autoreload 2\n",
    "import os \n",
    "import numpy as np\n",
    "from table import *"
   ]
  },
  {
   "cell_type": "code",
   "execution_count": 11,
   "metadata": {},
   "outputs": [],
   "source": []
  },
  {
   "cell_type": "code",
   "execution_count": 42,
   "metadata": {},
   "outputs": [
    {
     "name": "stdout",
     "output_type": "stream",
     "text": [
      "method & Mug_F5 & Mug_F10 & Mug_CD & Bottle_F5 & Bottle_F10 & Bottle_CD & Kettle_F5 & Kettle_F10 & Kettle_CD & Bowl_F5 & Bowl_F10 & Bowl_CD & Knife_F5 & Knife_F10 & Knife_CD & ToyCar_F5 & ToyCar_F10 & ToyCar_CD & mean_F5 & mean_F10 & mean_CD \\\\\n",
      "HHOR & 0.18 & 0.37 & 7.0 & 0.26 & 0.56 & 3.1 & 0.12 & 0.30 & 11.3 & 0.31 & 0.54 & 4.2 & \\first \\textbf{0.71} & \\second 0.93 & \\first \\textbf{0.6} & 0.26 & 0.59 & 1.9 & 0.31 & 0.55 & 4.7 \\\\\n",
      "iHOI & \\second 0.44 & \\second 0.71 & \\second 2.1 & \\second 0.48 & \\second 0.77 & \\second 1.5 & \\second 0.21 & \\second 0.45 & \\second 6.3 & \\second 0.38 & \\second 0.64 & \\second 3.1 & 0.33 & 0.68 & 2.8 & \\second 0.66 & \\second 0.95 & \\second 0.5 & \\second 0.42 & \\second 0.70 & \\second 2.7 \\\\\n",
      "Ours & \\first \\textbf{0.64} & \\first \\textbf{0.86} & \\first \\textbf{1.0} & \\first \\textbf{0.54} & \\first \\textbf{0.92} & \\first \\textbf{0.7} & \\first \\textbf{0.43} & \\first \\textbf{0.77} & \\first \\textbf{1.5} & \\first \\textbf{0.79} & \\first \\textbf{0.98} & \\first \\textbf{0.4} & \\second 0.50 & \\first \\textbf{0.95} & \\second 0.8 & \\first \\textbf{0.83} & \\first \\textbf{0.99} & \\first \\textbf{0.3} & \\first \\textbf{0.62} & \\first \\textbf{0.91} & \\first \\textbf{0.8} \\\\\n"
     ]
    }
   ],
   "source": [
    "raw = \"\"\" Ours\t\t\tiHOI\t\t\tHHOR\t\t\n",
    "\tF5\tF10\tCD\tF5\tF10\tCD\tF5\tF10\tCD\n",
    "Mug\t0.64\t0.86\t1.01\t0.44\t0.71\t2.10\t0.18\t0.37\t6.95\n",
    "Bottle\t0.54\t0.92\t0.72\t0.48\t0.77\t1.48\t0.26\t0.56\t3.09\n",
    "Kettle\t0.43\t0.77\t1.50\t0.21\t0.45\t6.31\t0.12\t0.30\t11.35\n",
    "Bowl\t0.79\t0.98\t0.36\t0.38\t0.64\t3.10\t0.31\t0.54\t4.18\n",
    "Knife\t0.50\t0.95\t0.76\t0.33\t0.68\t2.82\t0.71\t0.93\t0.63\n",
    "ToyCar\t0.83\t0.99\t0.27\t0.66\t0.95\t0.54\t0.26\t0.59\t1.90\n",
    "mean\t0.62\t0.91\t0.77\t0.42\t0.70\t2.73\t0.31\t0.55\t4.68\n",
    "\"\"\"\n",
    "table = parse_table(raw)\n",
    "print_table(table, ['HHOR', 'iHOI', 'Ours'], ['Mug','Bottle','Kettle','Bowl','Knife','ToyCar','mean'], ['F5','F10','CD'])\n"
   ]
  },
  {
   "cell_type": "code",
   "execution_count": 39,
   "metadata": {},
   "outputs": [
    {
     "name": "stdout",
     "output_type": "stream",
     "text": [
      "method & Mug_F5 & Mug_F10 & Mug_CD & Bottle_F5 & Bottle_F10 & Bottle_CD & Kettle_F5 & Kettle_F10 & Kettle_CD & Bowl_F5 & Bowl_F10 & Bowl_CD & Knife_F5 & Knife_F10 & Knife_CD & ToyCar_F5 & ToyCar_F10 & ToyCar_CD & mean_F5 & mean_F10 & mean_CD \\\\\n",
      "no-prior & 0.46 & 0.73 & 1.8 & 0.39 & 0.65 & 2.2 & 0.18 & 0.39 & 9.1 & \\second 0.45 & \\second 0.73 & \\second 1.9 & \\first \\textbf{0.70} & 0.93 & \\first \\textbf{0.5} & 0.63 & 0.92 & 0.6 & 0.47 & 0.73 & 2.7 \\\\\n",
      "hand-prior & 0.48 & 0.77 & 1.4 & 0.37 & 0.66 & 1.6 & 0.30 & 0.60 & 3.4 & 0.38 & 0.63 & 4.2 & 0.09 & 0.24 & 5.8 & 0.70 & 0.97 & 0.4 & 0.39 & 0.65 & 2.8 \\\\\n",
      "cat-prior & \\second 0.62 & \\second 0.85 & \\second 1.1 & \\first \\textbf{0.56} & \\first \\textbf{0.95} & \\first \\textbf{0.6} & \\first \\textbf{0.63} & \\first \\textbf{0.94} & \\first \\textbf{0.7} & 0.35 & 0.58 & 5.8 & 0.44 & \\second 0.94 & 0.8 & \\second 0.77 & \\second 0.98 & \\second 0.4 & \\second 0.56 & \\second 0.87 & \\second 1.6 \\\\\n",
      "Ours & \\first \\textbf{0.64} & \\first \\textbf{0.86} & \\first \\textbf{1.0} & \\second 0.54 & \\second 0.92 & \\second 0.7 & \\second 0.43 & \\second 0.77 & \\second 1.5 & \\first \\textbf{0.79} & \\first \\textbf{0.98} & \\first \\textbf{0.4} & \\second 0.50 & \\first \\textbf{0.95} & \\second 0.8 & \\first \\textbf{0.83} & \\first \\textbf{0.99} & \\first \\textbf{0.3} & \\first \\textbf{0.62} & \\first \\textbf{0.91} & \\first \\textbf{0.8} \\\\\n"
     ]
    }
   ],
   "source": [
    "raw = \"\"\" \tOurs\t\t\tno-prior\t\t\thand-prior\t\t\tcat-prior\t\t\n",
    "\tF5\tF10\tCD\tF5\tF10\tCD\tF5\tF10\tCD\tF5\tF10\tCD\n",
    "Mug\t0.64\t0.86\t1.01\t0.46\t0.73\t1.83\t0.48\t0.77\t1.42\t0.62\t0.85\t1.11\n",
    "Bottle\t0.54\t0.92\t0.72\t0.39\t0.65\t2.16\t0.37\t0.66\t1.65\t0.56\t0.95\t0.64\n",
    "Kettle\t0.43\t0.77\t1.50\t0.18\t0.39\t9.11\t0.30\t0.60\t3.41\t0.63\t0.94\t0.69\n",
    "Bowl\t0.79\t0.98\t0.36\t0.45\t0.73\t1.87\t0.38\t0.63\t4.21\t0.35\t0.58\t5.75\n",
    "Knife\t0.50\t0.95\t0.76\t0.70\t0.93\t0.53\t0.09\t0.24\t5.79\t0.44\t0.94\t0.81\n",
    "ToyCar\t0.83\t0.99\t0.27\t0.63\t0.92\t0.64\t0.70\t0.97\t0.44\t0.77\t0.98\t0.36\n",
    "mean\t0.62\t0.91\t0.77\t0.47\t0.73\t2.69\t0.39\t0.65\t2.82\t0.56\t0.87\t1.56\n",
    "\"\"\"\n",
    "table = parse_table(raw)\n",
    "print_table(table, ['no-prior', 'hand-prior', 'cat-prior', 'Ours'], ['Mug','Bottle','Kettle','Bowl','Knife','ToyCar','mean'], ['F5','F10','CD'])"
   ]
  },
  {
   "cell_type": "code",
   "execution_count": 44,
   "metadata": {},
   "outputs": [
    {
     "name": "stdout",
     "output_type": "stream",
     "text": [
      "method & Mug_CD_h & Bottle_CD_h & Kettle_CD_h & Bowl_CD_h & Knife_CD_h & ToyCar_CD_h & mean_CD_h \\\\\n",
      "no-prior & 36.0 & 15.4 & 58.2 & 75.7 & 29.5 & 7.1 & 37.0 \\\\\n",
      "hand-prior & 34.5 & \\second 18.3 & 57.5 & \\first \\textbf{87.5} & \\first \\textbf{71.7} & 60.6 & \\second 55.0 \\\\\n",
      "cat-prior & \\second 23.2 & 75.7 & \\second 54.4 & 158.6 & 164.0 & \\second 34.9 & 85.2 \\\\\n",
      "Ours & \\first \\textbf{18.1} & \\first \\textbf{15.3} & \\first \\textbf{42.2} & \\second 101.8 & \\second 82.9 & \\first \\textbf{23.3} & \\first \\textbf{47.2} \\\\\n"
     ]
    }
   ],
   "source": [
    "raw  = \"\"\"\tOurs\t\t\tno-prior\t\t\thand-prior\t\t\tcat-prior\n",
    "\tCD_h\t\t\tCD_h\t\t\tCD_h\t\t\tCD_h\n",
    "Mug\t18.14\t\t\t36.05\t\t\t34.46\t\t\t23.19\n",
    "Bottle\t15.31\t\t\t15.37\t\t\t18.31\t\t\t75.73\n",
    "Kettle\t42.16\t\t\t58.25\t\t\t57.53\t\t\t54.40\n",
    "Bowl\t101.76\t\t\t75.66\t\t\t87.48\t\t\t158.62\n",
    "Knife\t82.86\t\t\t29.52\t\t\t71.74\t\t\t164.01\n",
    "ToyCar\t23.29\t\t\t7.09\t\t\t60.61\t\t\t34.94\n",
    "mean\t47.25\t\t\t36.99\t\t\t55.02\t\t\t85.15\n",
    "\"\"\"\n",
    "table = parse_table(raw)\n",
    "print_table(table, ['no-prior', 'hand-prior', 'cat-prior', 'Ours'], ['Mug','Bottle','Kettle','Bowl','Knife','ToyCar','mean'], ['CD_h'],1 )"
   ]
  },
  {
   "cell_type": "code",
   "execution_count": 46,
   "metadata": {},
   "outputs": [
    {
     "name": "stdout",
     "output_type": "stream",
     "text": [
      "method & mean_F5 & mean_F10 & mean_CD & mean_CD_h \\\\\n",
      "no-normal & 0.36 & 0.58 & 4.3 & 220.2 \\\\\n",
      "no-mask & 0.56 & 0.82 & 1.3 & 128.1 \\\\\n",
      "no-depth & \\first \\textbf{0.66} & \\second 0.90 & \\second 0.9 & \\second 88.0 \\\\\n",
      "Ours & \\second 0.62 & \\first \\textbf{0.91} & \\first \\textbf{0.8} & \\first \\textbf{47.2} \\\\\n"
     ]
    }
   ],
   "source": [
    "raw = \"\"\"\tOurs\t\t\t\tno-normal\t\t\t\tno-mask\t\t\t\tno-depth\t\t\t\n",
    "\tCD_h\tF5\tF10\tCD\tCD_h\tF5\tF10\tCD\tCD_h\tF5\tF10\tCD\tCD_h\tF5\tF10\tCD\n",
    "Mug\t18.14\t0.64\t0.86\t1.01\t394.92\t0.48\t0.77\t1.42\t36.01\t0.46\t0.74\t1.71\t14.56\t0.65\t0.87\t0.99\n",
    "Bottle\t15.31\t0.54\t0.92\t0.72\t0.00\t0.21\t0.44\t3.73\t28.51\t0.23\t0.51\t2.65\t12.65\t0.64\t0.93\t0.60\n",
    "Kettle\t42.16\t0.43\t0.77\t1.50\t107.90\t0.25\t0.49\t5.18\t60.67\t0.38\t0.72\t2.20\t45.49\t0.37\t0.67\t2.53\n",
    "Bowl\t101.76\t0.79\t0.98\t0.36\t235.46\t0.38\t0.63\t3.88\t504.45\t0.71\t0.96\t0.48\t270.61\t0.70\t0.95\t0.50\n",
    "Knife\t82.86\t0.50\t0.95\t0.76\t285.98\t0.10\t0.22\t11.39\t97.93\t0.83\t0.98\t0.33\t160.55\t0.80\t0.98\t0.37\n",
    "ToyCar\t23.29\t0.83\t0.99\t0.27\t296.64\t0.75\t0.95\t0.46\t41.26\t0.77\t0.99\t0.34\t24.01\t0.81\t0.98\t0.31\n",
    "mean\t47.25\t0.62\t0.91\t0.77\t220.15\t0.36\t0.58\t4.34\t128.14\t0.56\t0.82\t1.29\t87.98\t0.66\t0.90\t0.88\n",
    "\"\"\"\n",
    "table = parse_table(raw)\n",
    "print_table(table, ['no-normal', 'no-mask', 'no-depth', 'Ours'], ['mean'], ['F5', 'F10', 'CD', 'CD_h'])"
   ]
  },
  {
   "cell_type": "code",
   "execution_count": 48,
   "metadata": {},
   "outputs": [
    {
     "name": "stdout",
     "output_type": "stream",
     "text": [
      "method & mean_F5 & mean_F10 & mean_CD & mean_CD_h \\\\\n",
      "no-prior & 0.47 & 0.73 & 2.7 & \\first \\textbf{37.0} \\\\\n",
      "hand-prior & 0.39 & 0.65 & 2.8 & 55.0 \\\\\n",
      "cat-prior & \\second 0.56 & \\second 0.87 & \\second 1.6 & 85.2 \\\\\n",
      "Ours & \\first \\textbf{0.62} & \\first \\textbf{0.91} & \\first \\textbf{0.8} & \\second 47.2 \\\\\n"
     ]
    }
   ],
   "source": [
    "raw = \"\"\"\t\tOurs\t\t\t\tno-prior\t\t\t\thand-prior\t\t\t\tcat-prior\t\t\t\n",
    "\t\tF5\tF10\tCD\tCD_h\tF5\tF10\tCD\tCD_h\tF5\tF10\tCD\tCD_h\tF5\tF10\tCD\tCD_h\n",
    "\tMug\t0.64\t0.86\t1.01\t18.14\t0.46\t0.73\t1.83\t36.05\t0.48\t0.77\t1.42\t34.46\t0.62\t0.85\t1.11\t23.19\n",
    "\tBottle\t0.54\t0.92\t0.72\t15.31\t0.39\t0.65\t2.16\t15.37\t0.37\t0.66\t1.65\t18.31\t0.56\t0.95\t0.64\t75.73\n",
    "\tKettle\t0.43\t0.77\t1.50\t42.16\t0.18\t0.39\t9.11\t58.25\t0.30\t0.60\t3.41\t57.53\t0.63\t0.94\t0.69\t54.40\n",
    "\tBowl\t0.79\t0.98\t0.36\t101.76\t0.45\t0.73\t1.87\t75.66\t0.38\t0.63\t4.21\t87.48\t0.35\t0.58\t5.75\t158.62\n",
    "\tKnife\t0.50\t0.95\t0.76\t82.86\t0.70\t0.93\t0.53\t29.52\t0.09\t0.24\t5.79\t71.74\t0.44\t0.94\t0.81\t164.01\n",
    "\tToyCar\t0.83\t0.99\t0.27\t23.29\t0.63\t0.92\t0.64\t7.09\t0.70\t0.97\t0.44\t60.61\t0.77\t0.98\t0.36\t34.94\n",
    "\tmean\t0.62\t0.91\t0.77\t47.25\t0.47\t0.73\t2.69\t36.99\t0.39\t0.65\t2.82\t55.02\t0.56\t0.87\t1.56\t85.15\n",
    "\"\"\"\n",
    "table = parse_table(raw)\n",
    "print_table(table, ['no-prior', 'hand-prior', 'cat-prior', 'Ours'], ['mean'], ['F5', 'F10', 'CD', 'CD_h'])"
   ]
  },
  {
   "cell_type": "code",
   "execution_count": null,
   "metadata": {},
   "outputs": [],
   "source": []
  }
 ],
 "metadata": {
  "kernelspec": {
   "display_name": "vhoi",
   "language": "python",
   "name": "python3"
  },
  "language_info": {
   "codemirror_mode": {
    "name": "ipython",
    "version": 3
   },
   "file_extension": ".py",
   "mimetype": "text/x-python",
   "name": "python",
   "nbconvert_exporter": "python",
   "pygments_lexer": "ipython3",
   "version": "3.8.16"
  },
  "orig_nbformat": 4
 },
 "nbformat": 4,
 "nbformat_minor": 2
}
